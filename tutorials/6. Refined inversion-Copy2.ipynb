{
 "cells": [
  {
   "cell_type": "code",
   "execution_count": 28,
   "id": "e90c98f0",
   "metadata": {},
   "outputs": [],
   "source": [
    "import sys\n",
    "import os\n",
    "import time\n",
    "import pandas as pd\n",
    "import contextlib\n",
    "import numpy as np\n",
    "# Importing the main code.\n",
    "module_path = os.path.abspath(os.path.join('../src/ocloc'))\n",
    "if module_path not in sys.path:\n",
    "    sys.path.append(module_path)\n",
    "from ocloc import ProcessingParameters, ClockDrift\n",
    "import jackknife_tools as jk\n",
    "import pickle"
   ]
  },
  {
   "attachments": {},
   "cell_type": "markdown",
   "id": "7d4d18af",
   "metadata": {},
   "source": [
    "# Parameters used for the refined inversion were:"
   ]
  },
  {
   "attachments": {},
   "cell_type": "markdown",
   "id": "17d89ebd",
   "metadata": {},
   "source": [
    "params2 = ProcessingParameters(\n",
    "                 freqmin = 0.2, # Low freq. for the bandpass filter\n",
    "                 freqmax = 0.4, # High freq. for the bandpass filter \n",
    "                 ref_vel = 4500, # m/s\n",
    "                 dist_trh = 2.5, # Minimum station separation in terms of wavelength\n",
    "                 snr_trh = 30, # Signal-to-noise ratio threshold\n",
    "                 noise_st = 240, # start of the noise window.\n",
    "                 dt_err = 0.004, # Sampling interval needs to be multiple of this value.\n",
    "                 resp_details = False)"
   ]
  },
  {
   "cell_type": "code",
   "execution_count": 24,
   "id": "82a3dd04",
   "metadata": {},
   "outputs": [],
   "source": [
    "path_2_cd = (\"precomputed_clockdrift_objects/ClockDrift_refined_inversion_\" + \n",
    "             \"snr_trh_30__dist_trh_2.5.obj\")\n",
    "with open(path_2_cd, 'rb') as f:\n",
    "    cd = pickle.load(f) \n"
   ]
  },
  {
   "cell_type": "code",
   "execution_count": 54,
   "id": "33a1f892",
   "metadata": {},
   "outputs": [],
   "source": [
    "# Function to substrac values from a dictionary using another dictionary with same keys.\n",
    "# the values are a list of values.\n",
    "def subtract_dict(dict1, dict2):\n",
    "    \"\"\"Subtract values from a dictionary using another dictionary with same keys.\n",
    "    Parameters\n",
    "    ----------\n",
    "    dict1 : dict\n",
    "        Dictionary with values to be subtracted.\n",
    "    dict2 : dict\n",
    "        Dictionary with values to be subtracted.\n",
    "    Returns\n",
    "    -------\n",
    "        dict\n",
    "        Dictionary with values subtracted.\n",
    "    \"\"\"\n",
    "    for k in dict1:\n",
    "        dict1[k][-1] = dict1[k][-1] - dict2[k][-1]\n",
    "\n",
    "    return dict1\n",
    "\n",
    "def calculate_pseudo_values(cd, pseudo_cd):\n",
    "    \"\"\"Calculate pseudo values for a clock drift object.\n",
    "    Parameters\n",
    "    ----------\n",
    "    cd : ClockDrift\n",
    "        Clock drift object.\n",
    "    pseudo_cd : ClockDrift\n",
    "        Clock drift object with pseudo values.\n",
    "    \n",
    "    Returns\n",
    "    -------\n",
    "    pseudo_cd_a_vals : dict\n",
    "        Dictionary with pseudo values.\n",
    "    pseudo_cd_b_vals :\n",
    "        Dictionary with pseudo values.\n",
    "    \"\"\"\n",
    "\n",
    "    a_vals = jk.get_last_a_value(cd)\n",
    "    b_vals = jk.get_last_b_value(cd)\n",
    "\n",
    "    pseudo_cd_a_vals = jk.get_last_a_value(pseudo_cd)\n",
    "    pseudo_cd_b_vals = jk.get_last_b_value(pseudo_cd)\n",
    "\n",
    "    for station in a_vals:\n",
    "        pseudo_cd_a_vals[station] = [(a_vals[station][-1] \n",
    "                                     - pseudo_cd_a_vals[station][-1])]\n",
    "        pseudo_cd_b_vals[station] = [(b_vals[station][-1]\n",
    "                                     - pseudo_cd_b_vals[station][-1])]\n",
    "\n",
    "    return pseudo_cd_a_vals, pseudo_cd_b_vals\n"
   ]
  },
  {
   "cell_type": "code",
   "execution_count": 80,
   "id": "9789f26b",
   "metadata": {},
   "outputs": [
    {
     "name": "stdout",
     "output_type": "stream",
     "text": [
      "-0.000360507676411\n",
      "-0.000360507676411\n",
      "-0.000359990316683\n",
      "-0.000359990316683\n",
      "-0.000359244128976\n",
      "-0.000359244128976\n",
      "-0.000358664854413\n",
      "-0.000358664854413\n",
      "-0.000360925991062\n",
      "-0.000360925991062\n",
      "-0.000360172219282\n",
      "-0.000360172219282\n",
      "-0.000362139404886\n",
      "-0.000362139404886\n",
      "-0.000360406406834\n",
      "-0.000360406406834\n",
      "-0.000360191247489\n",
      "-0.000360191247489\n",
      "-0.000361713716389\n",
      "-0.000361713716389\n",
      "-0.000367939012191\n",
      "-0.000367939012191\n",
      "-0.000404849222899\n",
      "-0.000404849222899\n",
      "-0.00035976272405\n",
      "-0.00035976272405\n",
      "-0.00035978949536\n",
      "-0.00035978949536\n",
      "-0.000359340063195\n",
      "-0.000359340063195\n",
      "-0.000360080828487\n",
      "-0.000360080828487\n",
      "-0.000359483115072\n",
      "-0.000359483115072\n",
      "-0.0003599863508\n",
      "-0.0003599863508\n",
      "-0.000360197819032\n",
      "-0.000360197819032\n",
      "-0.000359869674052\n",
      "-0.000359869674052\n"
     ]
    }
   ],
   "source": [
    "snr_trh = 30\n",
    "dist_trh = 2.5\n",
    "\n",
    "cd = jk.load_clockdrift(snr_trh=snr_trh, dist_trh=dist_trh, \n",
    "                     dir_ClockDrifts=\"precomputed_clockdrift_objects/\")\n",
    "\n",
    "# Remove the correlation in cd.correlations that have \n",
    "# a nan value in t_app[-1].\n",
    "cd = jk.remove_nan_corr(cd)\n",
    "\n",
    "# build the matrix A and the vector Tobs.\n",
    "cd.build_matrices()\n",
    "\n",
    "# Create an empty list to store the results\n",
    "results = []\n",
    "\n",
    "# Iterate over the rows of A and T\n",
    "for index in range(20): #len(cd.correlations)):\n",
    "    \n",
    "    pseudo_cd = cd.copy()\n",
    "    pseudo_cd.correlations[index].t_app[-1] = np.nan\n",
    "    pseudo_cd = jk.remove_nan_corr(pseudo_cd)\n",
    "\n",
    "    # Do not show output from calling a function.\n",
    "    with open(os.devnull, \"w\") as f, contextlib.redirect_stdout(f):\n",
    "        pseudo_cd.build_matrices()\n",
    "        pseudo_cd.solve_eq()\n",
    "\n",
    "    # calculate the pseudo-value for the left-out observation\n",
    "    pseudo_values_a, pseudo_values_b = calculate_pseudo_values(cd, pseudo_cd)\n",
    "\n",
    "    if index == 0:\n",
    "        a_vals = pseudo_values_a\n",
    "        b_vals = pseudo_values_b\n",
    "    else:\n",
    "        a_vals = jk.combine_dicts(a_vals, pseudo_values_a)\n",
    "        b_vals = jk.combine_dicts(b_vals, pseudo_values_b)\n",
    "    station = \"O10\"\n",
    "\n",
    "    print(pseudo_values_a[station][-1])\n",
    "# Calculate the mean of the pseudo-values.\n",
    "for station in a_vals:\n",
    "    mean_a = np.mean(a_vals[station])\n",
    "    mean_b = np.mean(b_vals[station])\n"
   ]
  },
  {
   "cell_type": "code",
   "execution_count": 68,
   "id": "f7faa82f",
   "metadata": {},
   "outputs": [
    {
     "data": {
      "text/plain": [
       "0.00011390672929618691"
      ]
     },
     "execution_count": 68,
     "metadata": {},
     "output_type": "execute_result"
    }
   ],
   "source": [
    "-0.00097399806446048719+0.0010879047937566741"
   ]
  },
  {
   "cell_type": "code",
   "execution_count": 58,
   "id": "fe01c4ae",
   "metadata": {},
   "outputs": [
    {
     "data": {
      "text/plain": [
       "100"
      ]
     },
     "execution_count": 58,
     "metadata": {},
     "output_type": "execute_result"
    }
   ],
   "source": [
    "# Plot the a values.\n",
    "station=\"O01\"\n",
    "jk.plot_hist(a_vals[station], \"a\", xlabel=\"a\", ylabel=\"Frequency\")\n"
   ]
  },
  {
   "cell_type": "code",
   "execution_count": null,
   "id": "98cf942b",
   "metadata": {},
   "outputs": [],
   "source": []
  }
 ],
 "metadata": {
  "kernelspec": {
   "display_name": "obsrocko",
   "language": "python",
   "name": "python3"
  },
  "language_info": {
   "codemirror_mode": {
    "name": "ipython",
    "version": 3
   },
   "file_extension": ".py",
   "mimetype": "text/x-python",
   "name": "python",
   "nbconvert_exporter": "python",
   "pygments_lexer": "ipython3",
   "version": "3.7.10"
  },
  "vscode": {
   "interpreter": {
    "hash": "b297e6300019f4b23f14186ee05cac1b908081aca77633784c3d60ca1f041417"
   }
  }
 },
 "nbformat": 4,
 "nbformat_minor": 5
}
