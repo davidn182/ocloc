{
 "cells": [
  {
   "cell_type": "code",
   "execution_count": 1,
   "id": "pointed-brand",
   "metadata": {},
   "outputs": [],
   "source": [
    "import sys\n",
    "import os\n",
    "import time\n",
    "import pandas as pd\n",
    "import pathlib\n",
    "tutorial_dir = pathlib.Path().resolve()\n",
    "# Importing the main code.\n",
    "module_path = os.path.abspath(os.path.join('..', 'src', 'ocloc'))\n",
    "if module_path not in sys.path:\n",
    "    sys.path.append(module_path)\n",
    "from ocloc import ProcessingParameters, ClockDrift\n",
    "from ocloc import read_correlation_file"
   ]
  },
  {
   "cell_type": "code",
   "execution_count": 2,
   "id": "9978fb3f",
   "metadata": {},
   "outputs": [
    {
     "name": "stdout",
     "output_type": "stream",
     "text": [
      "No correlation file found for station:O26\n"
     ]
    }
   ],
   "source": [
    "# Parameters for locating the files where the correlation files and station \n",
    "# information is contained.\n",
    "path2data_dir = \"/Users/localadmin/Dropbox/GitHub/data\"\n",
    "# The reference time is zero time to which the dates of the correlations\n",
    "# will be compared. It can be the date of deployment. \n",
    "reference_time = '2014-08-21T00:00:00.000000Z'\n",
    "\n",
    "station_file = os.path.join(tutorial_dir, \"station_info\")\n",
    "params2 = ProcessingParameters(\n",
    "                 freqmin = 0.2, # Low freq. for the bandpass filter\n",
    "                 freqmax = 0.4, # High freq. for the bandpass filter \n",
    "                 ref_vel = 4500, # m/s\n",
    "                 dist_trh = 2.5, # Minimum station separation in terms of wavelength\n",
    "                 snr_trh = 30, # Signal-to-noise ratio threshold\n",
    "                 noise_st = 240, # start of the noise window.\n",
    "                 dt_err = 0.004, # Sampling interval needs to be multiple of this value.\n",
    "                 resp_details = False)\n",
    "cd = ClockDrift(station_file, path2data_dir, \n",
    "                  reference_time = '2014-08-21T00:00:00.000000Z',\n",
    "                  list_of_processing_parameters=[params2])#, params3])"
   ]
  },
  {
   "cell_type": "code",
   "execution_count": 4,
   "id": "e12779a3",
   "metadata": {},
   "outputs": [
    {
     "name": "stdout",
     "output_type": "stream",
     "text": [
      "Calculating the apriori estimates for each stationpair\n"
     ]
    }
   ],
   "source": [
    "cd.calculate_aprioridt_4_allcorrelations()\n",
    "cd.calculate_dt_ins()\n",
    "#cd.calculate_tapp_4_allcorrelations()"
   ]
  },
  {
   "cell_type": "code",
   "execution_count": null,
   "id": "ffd7bc63",
   "metadata": {},
   "outputs": [],
   "source": []
  },
  {
   "cell_type": "code",
   "execution_count": 14,
   "id": "2df7182e",
   "metadata": {},
   "outputs": [
    {
     "name": "stdout",
     "output_type": "stream",
     "text": [
      "119\n"
     ]
    }
   ],
   "source": [
    "import numpy as np\n",
    "import obspy\n",
    "self = cd.correlations[119]\n",
    "# for i, self in enumerate(cd.correlations):\n",
    "freqmin = self.processing_parameters.freqmin\n",
    "freqmax = self.processing_parameters.freqmax\n",
    "ref_vel = self.processing_parameters.ref_vel\n",
    "dist_trh = self.processing_parameters.dist_trh\n",
    "snr_trh = self.processing_parameters.snr_trh\n",
    "noise_st = self.processing_parameters.noise_st\n",
    "dt_err = self.processing_parameters.dt_err\n",
    "xcorr_path = self.file_path\n",
    "v1 = 2 * ref_vel # Highest vel. for finding the interferometric responses.\n",
    "v2 = ref_vel / 2.0 # Lowest velocity for finding the interferometric responses.\n",
    "central_freq = (freqmax - freqmin) / 2.0\n",
    "\n",
    "# Now we load the trace.\n",
    "tr = read_correlation_file(xcorr_path)\n",
    "nn = tr.stats.npts # Number of samples.\n",
    "dt = tr.stats.delta\n",
    "\n",
    "nsmpls_per_hp= round(1/central_freq/2/dt) #! Number of samples per half-period\n",
    "sig = round(1/central_freq/3/dt) # Signal\n",
    "sig_ext=2*sig\n",
    "sig_int=round(sig*(dt/dt_err))\n",
    "sig_int_ext=2*sig_int\n",
    "\n",
    "# Station separation. Great circle distance in m using WGS84\n",
    "# ellipsoid.\n",
    "cpl_dist = self.cpl_dist\n",
    "min_wl = ref_vel / freqmax  # Minimum wavelength separation.\n",
    "\n",
    "if cpl_dist / min_wl < dist_trh:\n",
    "    msg = \"Station couple does not exceed minimum separation\"\n",
    "    self.resp_details = msg\n",
    "    if not isinstance(self.t_app, list):\n",
    "        self.t_app = [np.nan]\n",
    "    else:\n",
    "        self.t_app.append(np.nan)\n",
    "    \n",
    "    print(msg) #return (np.nan, [msg, cpl_dist])\n",
    "try:\n",
    "    # Apriori estimates of both stations.\n",
    "    apr_dt_st1 = float(self.dt_ins_station1[-1])\n",
    "    apr_dt_st2 = float(self.dt_ins_station2[-1])\n",
    "except:\n",
    "    msg = \"No apriori estimate found for station 1 and station 2.\"\n",
    "    raise Exception(msg)\n",
    "\n",
    "tr = tr.taper(max_percentage=0.1, type=\"cosine\")\n",
    "tr = tr.filter(\"bandpass\", freqmin=freqmin, freqmax=freqmax)\n",
    "\n",
    "apr_dt_cpl = 0\n",
    "apr_dt_cpl = apr_dt_cpl + (2 * apr_dt_st1)\n",
    "apr_dt_cpl=apr_dt_cpl - (2 * apr_dt_st2)\n",
    "nt = nn / 2 # Dividing no. of samples in two.\n",
    "def SNRwith_shift(tr, nt, cpl_dist, apr_dt_cpl, dt, noise_st, v1, v2):\n",
    "    \"\"\" \n",
    "    \"\"\"\n",
    "\n",
    "    nt = nt + 1\n",
    "    apr_dt_cpl = apr_dt_cpl / 2\n",
    "    a1r = cpl_dist /v1+apr_dt_cpl\n",
    "    a2r=cpl_dist/v2+apr_dt_cpl               # Ending time of causal signal window \n",
    "    b1r=noise_st+apr_dt_cpl              # Starting time of causal noise window\n",
    "    b2r=2.0*noise_st+apr_dt_cpl               # Ending time of causal noise window \n",
    "    \n",
    "    c_a1i=int(nt+round(a1r/dt))        # Starting index of causal signal window \n",
    "    c_a2i=int(nt+round(a2r/dt))        # Ending index of causal signal window\n",
    "    c_b1i=int(nt+round(b1r/dt))        # Starting index of causal noise window \n",
    "    c_b2i=int(nt+round(b2r/dt))       # Ending index of acausal noise window\n",
    "\n",
    "    a1r=cpl_dist/v1-apr_dt_cpl                # Starting time of acausal signal window \n",
    "    a2r=cpl_dist/v2-apr_dt_cpl                # Ending time of acausal signal window \n",
    "    b1r=noise_st-apr_dt_cpl              # Starting time of acausal noise window\n",
    "    b2r=2.0*noise_st-apr_dt_cpl               # Ending time of acausal noise window \n",
    "\n",
    "    ac_a1i=int(nt-round(a1r/dt))       # Ending index of acausal signal window \n",
    "    ac_a2i=int(nt-round(a2r/dt) )      # Starting index of acausal signal window\n",
    "    ac_b1i=int(nt-round(b1r/dt))       # Ending index of acausal noise window \n",
    "    ac_b2i=int(nt-round(b2r/dt))       # Starting index of acausal noise window\n",
    "\n",
    "    a1r=cpl_dist/v1-apr_dt_cpl       #         ! Starting time of acausal signal window \n",
    "    a2r=cpl_dist/v2-apr_dt_cpl        #        ! Ending time of acausal signal window \n",
    "    b1r=noise_st-apr_dt_cpl            #   ! Starting time of acausal noise window\n",
    "    b2r=2.0*noise_st-apr_dt_cpl         #       ! Ending time of acausal noise window \n",
    "\n",
    "    ac_a1i=int(nt-round(a1r/dt))  #      ! Ending index of acausal signal window \n",
    "    ac_a2i=int(nt-round(a2r/dt))   #     ! Starting index of acausal signal window\n",
    "    ac_b1i=int(nt-round(b1r/dt))    #    ! Ending index of acausal noise window \n",
    "    ac_b2i=int(nt-round(b2r/dt) )    #   ! Starting index of acausal noise window\n",
    "    c_amp=max(abs(tr.data[c_a1i:c_a2i]))\n",
    "    ac_amp= max(abs(tr.data[ac_a2i:ac_a1i])) \n",
    "    c_sum= sum( tr.data[c_b1i:c_b2i])\n",
    "    ac_sum=sum(tr.data[ac_b2i:ac_b1i])\n",
    "    tsum=c_sum+ac_sum\n",
    "    n=(c_b2i-c_b1i+1)+(ac_b1i-ac_b2i+1)\n",
    "    mean=tsum / n\n",
    "    var=0.\n",
    "    for i in range(c_b1i, c_b2i):\n",
    "        var=var+(((tr[i])-mean)**2)\n",
    "    \n",
    "    for i in range(ac_b2i, ac_b1i):\n",
    "        var=var+(((tr[i])-mean)**2)\n",
    "\n",
    "    nvar=var/(n) \n",
    "    std=np.sqrt(nvar)\n",
    "    c_snr=c_amp/std\n",
    "    ac_snr=ac_amp/std\n",
    "    return c_snr, ac_snr\n",
    "\n",
    "c_snr, ac_snr = SNRwith_shift(tr, nt, cpl_dist, apr_dt_cpl, dt, noise_st, v1, v2)\n",
    "# Cycle if SNR's are not high enough at this frequncy\n",
    "if(c_snr < snr_trh or ac_snr < snr_trh):\n",
    "    msg = \"Station couple does not exceed SNR\"\n",
    "    #raise Exception(msg)\n",
    "else:\n",
    "    print(i)\n",
    "    "
   ]
  },
  {
   "cell_type": "code",
   "execution_count": null,
   "id": "0cb23e81",
   "metadata": {},
   "outputs": [],
   "source": []
  },
  {
   "cell_type": "code",
   "execution_count": null,
   "id": "a2056b64",
   "metadata": {},
   "outputs": [],
   "source": []
  },
  {
   "cell_type": "code",
   "execution_count": null,
   "id": "d0e2d305",
   "metadata": {},
   "outputs": [],
   "source": []
  },
  {
   "cell_type": "code",
   "execution_count": 15,
   "id": "b7c0611e",
   "metadata": {},
   "outputs": [
    {
     "name": "stdout",
     "output_type": "stream",
     "text": [
      "39.2919314421\n",
      "30.0\n"
     ]
    },
    {
     "data": {
      "text/plain": [
       "95.389077595286096"
      ]
     },
     "execution_count": 15,
     "metadata": {},
     "output_type": "execute_result"
    }
   ],
   "source": [
    "print(c_snr)\n",
    "print(snr_trh)\n",
    "ac_snr"
   ]
  },
  {
   "cell_type": "code",
   "execution_count": null,
   "id": "54b8195b",
   "metadata": {},
   "outputs": [],
   "source": []
  },
  {
   "cell_type": "code",
   "execution_count": 16,
   "id": "d24881b3",
   "metadata": {},
   "outputs": [
    {
     "name": "stdout",
     "output_type": "stream",
     "text": [
      "mkdir: temp/: File exists\n",
      "###############     PROGRAM COMPLETE      ################\n",
      "'\n",
      " Results saved in folder:temp/EIN_O10_EIN_O10_1413530093_099.sac/\n",
      " Result shift:   0.79200000000000004     \n",
      " acausal signal from index:        44821\n",
      " acausal signal until index:        44571\n",
      " causal signal from index:        45181\n",
      " causal signal until index:        45431\n",
      " SNR causal wave   76.856708666895756     \n",
      " SNR acausal wave   94.853297429564449     \n",
      "'\n"
     ]
    },
    {
     "data": {
      "text/plain": [
       "         network: \n",
       "         station: \n",
       "        location: \n",
       "         channel: \n",
       "       starttime: 1969-12-31T23:30:00.000000Z\n",
       "         endtime: 1970-01-01T00:29:59.960000Z\n",
       "   sampling_rate: 25.0\n",
       "           delta: 0.04\n",
       "            npts: 90000\n",
       "           calib: 1.0\n",
       "         _format: SAC\n",
       "    average_date: 2014-10-17T07:14:53.000000Z\n",
       "  number_of_days: 99.0\n",
       "      processing: [\"ObsPy 1.2.2: taper(max_length=None::max_percentage=0.1::side='both'::type='cosine')\", \"ObsPy 1.2.2: filter(options={'freqmin': 0.2, 'freqmax': 0.4}::type='bandpass')\"]\n",
       "             sac: AttribDict({'delta': 0.039999999, 'depmin': -296.46793, 'depmax': 218.02748, 'b': -3600.0, 'e': -0.040080465, 'depmen': 3.100124e-05, 'nzyear': 1970, 'nzjday': 1, 'nzhour': 0, 'nzmin': 30, 'nzsec': 0, 'nzmsec': 0, 'nvhdr': 6, 'npts': 90000, 'iftype': 1, 'leven': 1, 'lpspol': 0, 'lovrok': 1, 'lcalda': 1, 'unused23': 0, 'kevnm': ''})\n",
       "    station_pair: EIN_O10"
      ]
     },
     "execution_count": 16,
     "metadata": {},
     "output_type": "execute_result"
    }
   ],
   "source": [
    "cor = cd.correlations[119]\n",
    "cor.calculate_t_app()\n",
    "tr.stats"
   ]
  },
  {
   "cell_type": "code",
   "execution_count": null,
   "id": "f761cb1e",
   "metadata": {},
   "outputs": [],
   "source": []
  }
 ],
 "metadata": {
  "kernelspec": {
   "display_name": "Python 3 (ipykernel)",
   "language": "python",
   "name": "python3"
  },
  "language_info": {
   "codemirror_mode": {
    "name": "ipython",
    "version": 3
   },
   "file_extension": ".py",
   "mimetype": "text/x-python",
   "name": "python",
   "nbconvert_exporter": "python",
   "pygments_lexer": "ipython3",
   "version": "3.7.10"
  }
 },
 "nbformat": 4,
 "nbformat_minor": 5
}
