{
 "cells": [
  {
   "cell_type": "code",
   "execution_count": 1,
   "id": "ecd4e47a",
   "metadata": {},
   "outputs": [],
   "source": [
    "import sys\n",
    "import os\n",
    "import time\n",
    "import pandas as pd\n",
    "# Importing the main code.\n",
    "module_path = os.path.abspath(os.path.join('../src/ocloc'))\n",
    "if module_path not in sys.path:\n",
    "    sys.path.append(module_path)\n",
    "from ocloc import ProcessingParameters, ClockDrift"
   ]
  },
  {
   "cell_type": "code",
   "execution_count": 3,
   "id": "52054277",
   "metadata": {},
   "outputs": [],
   "source": [
    "# Parameters for locating the files where the correlation files and station \n",
    "# information is contained.\n",
    "path2data_dir = \"/Users/localadmin/Dropbox/GitHub/data\"\n",
    "# path2data_dir = \"/Users/localadmin/Dropbox/GitHub/ocloc/tutorials/correlations_O20\"\n",
    "station_file = \"/Users/localadmin/Dropbox/GitHub/ocloc/tutorials/station_info\"\n",
    "reference_time = '2014-08-21T00:00:00.000000Z'"
   ]
  },
  {
   "cell_type": "code",
   "execution_count": null,
   "id": "6690e7e6",
   "metadata": {},
   "outputs": [
    {
     "name": "stdout",
     "output_type": "stream",
     "text": [
      "No correlation file found for station:O26\n",
      "No correlation file found for station:#STK\n",
      "Calculating the apriori estimates for each stationpair\n"
     ]
    }
   ],
   "source": [
    "params2 = ProcessingParameters(\n",
    "                 freqmin = 0.2, # Low freq. for the bandpass filter\n",
    "                 freqmax = 0.4, # High freq. for the bandpass filter \n",
    "                 ref_vel = 4500, # m/s\n",
    "                 dist_trh = 2.5, # Minimum station separation in terms of wavelength\n",
    "                 snr_trh = 30, # Signal-to-noise ratio threshold\n",
    "                 noise_st = 240, # start of the noise window.\n",
    "                 dt_err = 0.004, # Sampling interval needs to be multiple of this value.\n",
    "                 resp_details = False)\n",
    "\n",
    "cd = ClockDrift(station_file, path2data_dir, \n",
    "                  reference_time = '2014-08-21T00:00:00.000000Z',\n",
    "                  list_of_processing_parameters=[params2])#, params3])\n",
    "        \n",
    "        \n",
    "cd.calculate_aprioridt_4_allcorrelations()\n",
    "cd.calculate_dt_ins()\n",
    "cd.calculate_tapp_4_allcorrelations()\n",
    "cd.build_matrices()\n",
    "cd.solve_eq()\n",
    "\n",
    "for i in range(3):\n",
    "    cd.calculate_tapp_4_allcorrelations()\n",
    "    cd.calculate_dt_ins()\n",
    "    cd.remove_outiers(max_error=1.)\n",
    "    cd.calculate_dt_ins()\n",
    "    cd.build_matrices()\n",
    "    cd.solve_eq()"
   ]
  },
  {
   "cell_type": "code",
   "execution_count": null,
   "id": "7588d8a6",
   "metadata": {},
   "outputs": [],
   "source": [
    "station1_code, station2_code = \"O01\", \"KEF\"\n",
    "for sta in cd.stations:\n",
    "    if sta.needs_correction:\n",
    "        cd.plot_correlation_beforeNafter_correction(sta.code, station2_code)"
   ]
  },
  {
   "cell_type": "code",
   "execution_count": null,
   "id": "79aaf88a",
   "metadata": {},
   "outputs": [],
   "source": []
  }
 ],
 "metadata": {
  "kernelspec": {
   "display_name": "Python 3 (ipykernel)",
   "language": "python",
   "name": "python3"
  },
  "language_info": {
   "codemirror_mode": {
    "name": "ipython",
    "version": 3
   },
   "file_extension": ".py",
   "mimetype": "text/x-python",
   "name": "python",
   "nbconvert_exporter": "python",
   "pygments_lexer": "ipython3",
   "version": "3.7.10"
  }
 },
 "nbformat": 4,
 "nbformat_minor": 5
}
