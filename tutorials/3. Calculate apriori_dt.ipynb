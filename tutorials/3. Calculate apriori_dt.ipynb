{
 "cells": [
  {
   "cell_type": "markdown",
   "id": "d4963c1a",
   "metadata": {},
   "source": [
    "# 3. Calculate apriori dt for all cross-correlations"
   ]
  },
  {
   "cell_type": "markdown",
   "id": "eligible-thomas",
   "metadata": {},
   "source": [
    "Given that Github has a limited capacity to upload data, please request the dataset to David Naranjo (d.f.naranjohernandez@tudelft.nl).\n",
    "Then, change the path2datadir variable to the location of this folder in your computer."
   ]
  },
  {
   "cell_type": "code",
   "execution_count": 1,
   "id": "5010f4e3",
   "metadata": {},
   "outputs": [],
   "source": [
    "from ocloc import ProcessingParameters, ClockDrift, trim_correlation_trace"
   ]
  },
  {
   "cell_type": "code",
   "execution_count": 2,
   "id": "7cbb01dc-8bca-444e-a053-a295dd312729",
   "metadata": {},
   "outputs": [
    {
     "name": "stdout",
     "output_type": "stream",
     "text": [
      "No correlation file found for station:O26\n",
      "No correlation file found for station:#STK\n"
     ]
    }
   ],
   "source": [
    "path2data_dir = \"/Users/localadmin/Dropbox/GitHub/data\"\n",
    "station_file = \"/Users/localadmin/Dropbox/GitHub/ocloc/tutorials/station_info\"\n",
    "params = ProcessingParameters()\n",
    "\n",
    "cd = ClockDrift(station_file, path2data_dir,\n",
    "                reference_time = '2014-08-21T00:00:00.000000Z',\n",
    "                list_of_processing_parameters=[params])"
   ]
  },
  {
   "cell_type": "markdown",
   "id": "69ac3925",
   "metadata": {},
   "source": [
    "To calculate the time window where the causal and acausal waves are located in time the algorithm needs an apriori estimate. This estimate is an apriori of $\\delta t_{app}$ calculated individually for each cross-correlation file and is based on the **presumed stability of the time-lapsed cross-correlations**. \n",
    "\n",
    "If there is only one cross-correlation for a given station pair, the apriori estimate is set to zero. When there are two or more files, the algorithm uses two cross-correlations, one with the earliest and one with the latest time-averaged date. Then, the cross-correlation between the earliest file and the latest file is computed. This provides an estimate of the time lag to the maximum waveform similarity. Then, the drift is assumed to be linear, meaning that the correction for the earliest file is zero while the correction of the latest file is the total time lag.\n",
    "\n",
    "To calculate the apriori estimate for all cross-correlations you just need to:"
   ]
  },
  {
   "cell_type": "code",
   "execution_count": null,
   "id": "2634184e",
   "metadata": {},
   "outputs": [
    {
     "name": "stdout",
     "output_type": "stream",
     "text": [
      "Calculating the apriori estimates for each stationpair\n"
     ]
    }
   ],
   "source": [
    "cd.calculate_aprioridt_4_allcorrelations()"
   ]
  }
 ],
 "metadata": {
  "kernelspec": {
   "display_name": "Python 3 (ipykernel)",
   "language": "python",
   "name": "python3"
  },
  "language_info": {
   "codemirror_mode": {
    "name": "ipython",
    "version": 3
   },
   "file_extension": ".py",
   "mimetype": "text/x-python",
   "name": "python",
   "nbconvert_exporter": "python",
   "pygments_lexer": "ipython3",
   "version": "3.8.16"
  }
 },
 "nbformat": 4,
 "nbformat_minor": 5
}
